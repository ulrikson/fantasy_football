{
 "cells": [
  {
   "cell_type": "markdown",
   "metadata": {},
   "source": [
    "# Setting up"
   ]
  },
  {
   "cell_type": "code",
   "execution_count": 1,
   "metadata": {},
   "outputs": [
    {
     "data": {
      "text/html": [
       "<div>\n",
       "<style scoped>\n",
       "    .dataframe tbody tr th:only-of-type {\n",
       "        vertical-align: middle;\n",
       "    }\n",
       "\n",
       "    .dataframe tbody tr th {\n",
       "        vertical-align: top;\n",
       "    }\n",
       "\n",
       "    .dataframe thead th {\n",
       "        text-align: right;\n",
       "    }\n",
       "</style>\n",
       "<table border=\"1\" class=\"dataframe\">\n",
       "  <thead>\n",
       "    <tr style=\"text-align: right;\">\n",
       "      <th></th>\n",
       "      <th>points_per_game</th>\n",
       "      <th>now_cost</th>\n",
       "      <th>minutes</th>\n",
       "      <th>value_season</th>\n",
       "      <th>total_points</th>\n",
       "      <th>form</th>\n",
       "      <th>value_season_adj</th>\n",
       "    </tr>\n",
       "  </thead>\n",
       "  <tbody>\n",
       "    <tr>\n",
       "      <th>count</th>\n",
       "      <td>0.0</td>\n",
       "      <td>0.0</td>\n",
       "      <td>0.0</td>\n",
       "      <td>0.0</td>\n",
       "      <td>0.0</td>\n",
       "      <td>0.0</td>\n",
       "      <td>0.0</td>\n",
       "    </tr>\n",
       "    <tr>\n",
       "      <th>mean</th>\n",
       "      <td>NaN</td>\n",
       "      <td>NaN</td>\n",
       "      <td>NaN</td>\n",
       "      <td>NaN</td>\n",
       "      <td>NaN</td>\n",
       "      <td>NaN</td>\n",
       "      <td>NaN</td>\n",
       "    </tr>\n",
       "    <tr>\n",
       "      <th>std</th>\n",
       "      <td>NaN</td>\n",
       "      <td>NaN</td>\n",
       "      <td>NaN</td>\n",
       "      <td>NaN</td>\n",
       "      <td>NaN</td>\n",
       "      <td>NaN</td>\n",
       "      <td>NaN</td>\n",
       "    </tr>\n",
       "    <tr>\n",
       "      <th>min</th>\n",
       "      <td>NaN</td>\n",
       "      <td>NaN</td>\n",
       "      <td>NaN</td>\n",
       "      <td>NaN</td>\n",
       "      <td>NaN</td>\n",
       "      <td>NaN</td>\n",
       "      <td>NaN</td>\n",
       "    </tr>\n",
       "    <tr>\n",
       "      <th>25%</th>\n",
       "      <td>NaN</td>\n",
       "      <td>NaN</td>\n",
       "      <td>NaN</td>\n",
       "      <td>NaN</td>\n",
       "      <td>NaN</td>\n",
       "      <td>NaN</td>\n",
       "      <td>NaN</td>\n",
       "    </tr>\n",
       "    <tr>\n",
       "      <th>50%</th>\n",
       "      <td>NaN</td>\n",
       "      <td>NaN</td>\n",
       "      <td>NaN</td>\n",
       "      <td>NaN</td>\n",
       "      <td>NaN</td>\n",
       "      <td>NaN</td>\n",
       "      <td>NaN</td>\n",
       "    </tr>\n",
       "    <tr>\n",
       "      <th>75%</th>\n",
       "      <td>NaN</td>\n",
       "      <td>NaN</td>\n",
       "      <td>NaN</td>\n",
       "      <td>NaN</td>\n",
       "      <td>NaN</td>\n",
       "      <td>NaN</td>\n",
       "      <td>NaN</td>\n",
       "    </tr>\n",
       "    <tr>\n",
       "      <th>max</th>\n",
       "      <td>NaN</td>\n",
       "      <td>NaN</td>\n",
       "      <td>NaN</td>\n",
       "      <td>NaN</td>\n",
       "      <td>NaN</td>\n",
       "      <td>NaN</td>\n",
       "      <td>NaN</td>\n",
       "    </tr>\n",
       "  </tbody>\n",
       "</table>\n",
       "</div>"
      ],
      "text/plain": [
       "       points_per_game  now_cost  minutes  value_season  total_points  form  \\\n",
       "count              0.0       0.0      0.0           0.0           0.0   0.0   \n",
       "mean               NaN       NaN      NaN           NaN           NaN   NaN   \n",
       "std                NaN       NaN      NaN           NaN           NaN   NaN   \n",
       "min                NaN       NaN      NaN           NaN           NaN   NaN   \n",
       "25%                NaN       NaN      NaN           NaN           NaN   NaN   \n",
       "50%                NaN       NaN      NaN           NaN           NaN   NaN   \n",
       "75%                NaN       NaN      NaN           NaN           NaN   NaN   \n",
       "max                NaN       NaN      NaN           NaN           NaN   NaN   \n",
       "\n",
       "       value_season_adj  \n",
       "count               0.0  \n",
       "mean                NaN  \n",
       "std                 NaN  \n",
       "min                 NaN  \n",
       "25%                 NaN  \n",
       "50%                 NaN  \n",
       "75%                 NaN  \n",
       "max                 NaN  "
      ]
     },
     "execution_count": 1,
     "metadata": {},
     "output_type": "execute_result"
    }
   ],
   "source": [
    "from Fantasy import Fantasy\n",
    "\n",
    "league = \"fpl\"\n",
    "\n",
    "unwanted_teams = []\n",
    "\n",
    "higher_than = {\n",
    "    \"value_season\": 0,\n",
    "    \"value_season_adj\": 5,\n",
    "    \"form\": 2,\n",
    "    \"minutes\": 90 * 5,\n",
    "    \"points_per_game\": 0,\n",
    "}\n",
    "\n",
    "max_cost = 200\n",
    "\n",
    "fantasy = Fantasy(league, unwanted_teams, higher_than, max_cost)\n",
    "\n",
    "fantasy.get_player_df().describe()\n"
   ]
  },
  {
   "cell_type": "markdown",
   "metadata": {},
   "source": [
    "# Aggregate"
   ]
  },
  {
   "cell_type": "markdown",
   "metadata": {},
   "source": [
    "To see where to focus your money, look at which positions are most valuable"
   ]
  },
  {
   "cell_type": "code",
   "execution_count": 2,
   "metadata": {},
   "outputs": [
    {
     "ename": "KeyError",
     "evalue": "'value_season_adj'",
     "output_type": "error",
     "traceback": [
      "\u001b[0;31m---------------------------------------------------------------------------\u001b[0m",
      "\u001b[0;31mKeyError\u001b[0m                                  Traceback (most recent call last)",
      "\u001b[1;32m/Users/erik/code/fpl/analyze.ipynb Cell 5'\u001b[0m in \u001b[0;36m<cell line: 2>\u001b[0;34m()\u001b[0m\n\u001b[1;32m      <a href='vscode-notebook-cell:/Users/erik/code/fpl/analyze.ipynb#ch0000004?line=0'>1</a>\u001b[0m \u001b[39m# Avg value per position\u001b[39;00m\n\u001b[0;32m----> <a href='vscode-notebook-cell:/Users/erik/code/fpl/analyze.ipynb#ch0000004?line=1'>2</a>\u001b[0m fantasy\u001b[39m.\u001b[39;49mget_bar_plot(\u001b[39m\"\u001b[39;49m\u001b[39melement_type\u001b[39;49m\u001b[39m\"\u001b[39;49m, \u001b[39m\"\u001b[39;49m\u001b[39mvalue_season_adj\u001b[39;49m\u001b[39m\"\u001b[39;49m)\n",
      "File \u001b[0;32m~/code/fpl/Fantasy.py:100\u001b[0m, in \u001b[0;36mFantasy.get_bar_plot\u001b[0;34m(self, column, element)\u001b[0m\n\u001b[1;32m     <a href='file:///Users/erik/code/fpl/Fantasy.py?line=98'>99</a>\u001b[0m \u001b[39mdef\u001b[39;00m \u001b[39mget_bar_plot\u001b[39m(\u001b[39mself\u001b[39m, column, element):\n\u001b[0;32m--> <a href='file:///Users/erik/code/fpl/Fantasy.py?line=99'>100</a>\u001b[0m     pivot \u001b[39m=\u001b[39m \u001b[39mself\u001b[39;49m\u001b[39m.\u001b[39;49mcreate_pivot(column, element)\u001b[39m.\u001b[39msort_values(element)\n\u001b[1;32m    <a href='file:///Users/erik/code/fpl/Fantasy.py?line=101'>102</a>\u001b[0m     fig \u001b[39m=\u001b[39m plt\u001b[39m.\u001b[39mgcf()\n\u001b[1;32m    <a href='file:///Users/erik/code/fpl/Fantasy.py?line=102'>103</a>\u001b[0m     fig\u001b[39m.\u001b[39mset_size_inches(\u001b[39m8\u001b[39m, \u001b[39m4\u001b[39m)\n",
      "File \u001b[0;32m~/code/fpl/Fantasy.py:47\u001b[0m, in \u001b[0;36mFantasy.create_pivot\u001b[0;34m(self, index, value)\u001b[0m\n\u001b[1;32m     <a href='file:///Users/erik/code/fpl/Fantasy.py?line=42'>43</a>\u001b[0m df \u001b[39m=\u001b[39m \u001b[39mself\u001b[39m\u001b[39m.\u001b[39mget_player_df()\n\u001b[1;32m     <a href='file:///Users/erik/code/fpl/Fantasy.py?line=44'>45</a>\u001b[0m pivot \u001b[39m=\u001b[39m df\u001b[39m.\u001b[39mpivot_table(index\u001b[39m=\u001b[39mindex, values\u001b[39m=\u001b[39mvalue, aggfunc\u001b[39m=\u001b[39mnp\u001b[39m.\u001b[39mmean)\u001b[39m.\u001b[39mreset_index()\n\u001b[0;32m---> <a href='file:///Users/erik/code/fpl/Fantasy.py?line=46'>47</a>\u001b[0m pivot \u001b[39m=\u001b[39m pivot\u001b[39m.\u001b[39;49msort_values(value, ascending\u001b[39m=\u001b[39;49m\u001b[39mFalse\u001b[39;49;00m)\n\u001b[1;32m     <a href='file:///Users/erik/code/fpl/Fantasy.py?line=48'>49</a>\u001b[0m \u001b[39mreturn\u001b[39;00m pivot\n",
      "File \u001b[0;32m~/Library/Python/3.8/lib/python/site-packages/pandas/util/_decorators.py:311\u001b[0m, in \u001b[0;36mdeprecate_nonkeyword_arguments.<locals>.decorate.<locals>.wrapper\u001b[0;34m(*args, **kwargs)\u001b[0m\n\u001b[1;32m    <a href='file:///Users/erik/Library/Python/3.8/lib/python/site-packages/pandas/util/_decorators.py?line=304'>305</a>\u001b[0m \u001b[39mif\u001b[39;00m \u001b[39mlen\u001b[39m(args) \u001b[39m>\u001b[39m num_allow_args:\n\u001b[1;32m    <a href='file:///Users/erik/Library/Python/3.8/lib/python/site-packages/pandas/util/_decorators.py?line=305'>306</a>\u001b[0m     warnings\u001b[39m.\u001b[39mwarn(\n\u001b[1;32m    <a href='file:///Users/erik/Library/Python/3.8/lib/python/site-packages/pandas/util/_decorators.py?line=306'>307</a>\u001b[0m         msg\u001b[39m.\u001b[39mformat(arguments\u001b[39m=\u001b[39marguments),\n\u001b[1;32m    <a href='file:///Users/erik/Library/Python/3.8/lib/python/site-packages/pandas/util/_decorators.py?line=307'>308</a>\u001b[0m         \u001b[39mFutureWarning\u001b[39;00m,\n\u001b[1;32m    <a href='file:///Users/erik/Library/Python/3.8/lib/python/site-packages/pandas/util/_decorators.py?line=308'>309</a>\u001b[0m         stacklevel\u001b[39m=\u001b[39mstacklevel,\n\u001b[1;32m    <a href='file:///Users/erik/Library/Python/3.8/lib/python/site-packages/pandas/util/_decorators.py?line=309'>310</a>\u001b[0m     )\n\u001b[0;32m--> <a href='file:///Users/erik/Library/Python/3.8/lib/python/site-packages/pandas/util/_decorators.py?line=310'>311</a>\u001b[0m \u001b[39mreturn\u001b[39;00m func(\u001b[39m*\u001b[39;49margs, \u001b[39m*\u001b[39;49m\u001b[39m*\u001b[39;49mkwargs)\n",
      "File \u001b[0;32m~/Library/Python/3.8/lib/python/site-packages/pandas/core/frame.py:6307\u001b[0m, in \u001b[0;36mDataFrame.sort_values\u001b[0;34m(self, by, axis, ascending, inplace, kind, na_position, ignore_index, key)\u001b[0m\n\u001b[1;32m   <a href='file:///Users/erik/Library/Python/3.8/lib/python/site-packages/pandas/core/frame.py?line=6302'>6303</a>\u001b[0m \u001b[39melif\u001b[39;00m \u001b[39mlen\u001b[39m(by):\n\u001b[1;32m   <a href='file:///Users/erik/Library/Python/3.8/lib/python/site-packages/pandas/core/frame.py?line=6303'>6304</a>\u001b[0m     \u001b[39m# len(by) == 1\u001b[39;00m\n\u001b[1;32m   <a href='file:///Users/erik/Library/Python/3.8/lib/python/site-packages/pandas/core/frame.py?line=6305'>6306</a>\u001b[0m     by \u001b[39m=\u001b[39m by[\u001b[39m0\u001b[39m]\n\u001b[0;32m-> <a href='file:///Users/erik/Library/Python/3.8/lib/python/site-packages/pandas/core/frame.py?line=6306'>6307</a>\u001b[0m     k \u001b[39m=\u001b[39m \u001b[39mself\u001b[39;49m\u001b[39m.\u001b[39;49m_get_label_or_level_values(by, axis\u001b[39m=\u001b[39;49maxis)\n\u001b[1;32m   <a href='file:///Users/erik/Library/Python/3.8/lib/python/site-packages/pandas/core/frame.py?line=6308'>6309</a>\u001b[0m     \u001b[39m# need to rewrap column in Series to apply key function\u001b[39;00m\n\u001b[1;32m   <a href='file:///Users/erik/Library/Python/3.8/lib/python/site-packages/pandas/core/frame.py?line=6309'>6310</a>\u001b[0m     \u001b[39mif\u001b[39;00m key \u001b[39mis\u001b[39;00m \u001b[39mnot\u001b[39;00m \u001b[39mNone\u001b[39;00m:\n\u001b[1;32m   <a href='file:///Users/erik/Library/Python/3.8/lib/python/site-packages/pandas/core/frame.py?line=6310'>6311</a>\u001b[0m         \u001b[39m# error: Incompatible types in assignment (expression has type\u001b[39;00m\n\u001b[1;32m   <a href='file:///Users/erik/Library/Python/3.8/lib/python/site-packages/pandas/core/frame.py?line=6311'>6312</a>\u001b[0m         \u001b[39m# \"Series\", variable has type \"ndarray\")\u001b[39;00m\n",
      "File \u001b[0;32m~/Library/Python/3.8/lib/python/site-packages/pandas/core/generic.py:1848\u001b[0m, in \u001b[0;36mNDFrame._get_label_or_level_values\u001b[0;34m(self, key, axis)\u001b[0m\n\u001b[1;32m   <a href='file:///Users/erik/Library/Python/3.8/lib/python/site-packages/pandas/core/generic.py?line=1845'>1846</a>\u001b[0m     values \u001b[39m=\u001b[39m \u001b[39mself\u001b[39m\u001b[39m.\u001b[39maxes[axis]\u001b[39m.\u001b[39mget_level_values(key)\u001b[39m.\u001b[39m_values\n\u001b[1;32m   <a href='file:///Users/erik/Library/Python/3.8/lib/python/site-packages/pandas/core/generic.py?line=1846'>1847</a>\u001b[0m \u001b[39melse\u001b[39;00m:\n\u001b[0;32m-> <a href='file:///Users/erik/Library/Python/3.8/lib/python/site-packages/pandas/core/generic.py?line=1847'>1848</a>\u001b[0m     \u001b[39mraise\u001b[39;00m \u001b[39mKeyError\u001b[39;00m(key)\n\u001b[1;32m   <a href='file:///Users/erik/Library/Python/3.8/lib/python/site-packages/pandas/core/generic.py?line=1849'>1850</a>\u001b[0m \u001b[39m# Check for duplicates\u001b[39;00m\n\u001b[1;32m   <a href='file:///Users/erik/Library/Python/3.8/lib/python/site-packages/pandas/core/generic.py?line=1850'>1851</a>\u001b[0m \u001b[39mif\u001b[39;00m values\u001b[39m.\u001b[39mndim \u001b[39m>\u001b[39m \u001b[39m1\u001b[39m:\n",
      "\u001b[0;31mKeyError\u001b[0m: 'value_season_adj'"
     ]
    }
   ],
   "source": [
    "# Avg value per position\n",
    "fantasy.get_bar_plot(\"element_type\", \"value_season_adj\")\n"
   ]
  },
  {
   "cell_type": "markdown",
   "metadata": {},
   "source": [
    "# Players overall"
   ]
  },
  {
   "cell_type": "markdown",
   "metadata": {},
   "source": [
    "Top performers are must haves. They're top 10% in value, form and if you're using FPL, also ICT"
   ]
  },
  {
   "cell_type": "code",
   "execution_count": null,
   "metadata": {},
   "outputs": [],
   "source": [
    "fantasy.get_top_performers()\n"
   ]
  },
  {
   "cell_type": "markdown",
   "metadata": {},
   "source": [
    "Top point players are also must haves. They're the ones with the most points."
   ]
  },
  {
   "cell_type": "code",
   "execution_count": null,
   "metadata": {},
   "outputs": [],
   "source": [
    "fantasy.get_top_points()\n"
   ]
  },
  {
   "cell_type": "markdown",
   "metadata": {},
   "source": [
    "# Goalkeepers"
   ]
  },
  {
   "cell_type": "markdown",
   "metadata": {},
   "source": [
    "The best performing goalkeepers"
   ]
  },
  {
   "cell_type": "code",
   "execution_count": null,
   "metadata": {},
   "outputs": [],
   "source": [
    "# Those over the line are outperforming their current price\n",
    "fantasy.get_player_scatterplot(\"Goalkeeper\", \"now_cost\", \"points_per_game\", True)"
   ]
  },
  {
   "cell_type": "code",
   "execution_count": null,
   "metadata": {},
   "outputs": [],
   "source": [
    "fantasy.get_player_scatterplot(\"Goalkeeper\", \"form\", \"value_season_adj\")\n"
   ]
  },
  {
   "cell_type": "markdown",
   "metadata": {},
   "source": [
    "# Defenders"
   ]
  },
  {
   "cell_type": "code",
   "execution_count": null,
   "metadata": {},
   "outputs": [],
   "source": [
    "# Those over the line are outperforming their current price\n",
    "fantasy.get_player_scatterplot(\"Defender\", \"now_cost\", \"points_per_game\", True)"
   ]
  },
  {
   "cell_type": "markdown",
   "metadata": {},
   "source": [
    "The best performing defenders"
   ]
  },
  {
   "cell_type": "code",
   "execution_count": null,
   "metadata": {},
   "outputs": [],
   "source": [
    "fantasy.get_player_scatterplot(\"Defender\", \"form\", \"value_season_adj\")\n"
   ]
  },
  {
   "cell_type": "markdown",
   "metadata": {},
   "source": [
    "# Midfielders"
   ]
  },
  {
   "cell_type": "code",
   "execution_count": null,
   "metadata": {},
   "outputs": [],
   "source": [
    "# Those over the line are outperforming their current price\n",
    "fantasy.get_player_scatterplot(\"Midfielder\", \"now_cost\", \"points_per_game\", True)"
   ]
  },
  {
   "cell_type": "markdown",
   "metadata": {},
   "source": [
    "The best performing midfielders"
   ]
  },
  {
   "cell_type": "code",
   "execution_count": null,
   "metadata": {},
   "outputs": [],
   "source": [
    "fantasy.get_player_scatterplot(\"Midfielder\", \"form\", \"value_season_adj\")\n"
   ]
  },
  {
   "cell_type": "markdown",
   "metadata": {},
   "source": [
    "# Forwards"
   ]
  },
  {
   "cell_type": "code",
   "execution_count": null,
   "metadata": {},
   "outputs": [],
   "source": [
    "# Those over the line are outperforming their current price\n",
    "fantasy.get_player_scatterplot(\"Forward\", \"now_cost\", \"points_per_game\", True)"
   ]
  },
  {
   "cell_type": "markdown",
   "metadata": {},
   "source": [
    "The best performing forwards"
   ]
  },
  {
   "cell_type": "code",
   "execution_count": null,
   "metadata": {},
   "outputs": [],
   "source": [
    "fantasy.get_player_scatterplot(\"Forward\", \"form\", \"value_season_adj\")\n"
   ]
  },
  {
   "cell_type": "markdown",
   "metadata": {},
   "source": [
    "# Comparing players"
   ]
  },
  {
   "cell_type": "code",
   "execution_count": null,
   "metadata": {},
   "outputs": [],
   "source": [
    "players = [\"Son\", \"Salah\", \"De Bruyne\"]\n",
    "fantasy.compare_players(players)"
   ]
  }
 ],
 "metadata": {
  "interpreter": {
   "hash": "31f2aee4e71d21fbe5cf8b01ff0e069b9275f58929596ceb00d14d90e3e16cd6"
  },
  "kernelspec": {
   "display_name": "Python 3.8.9 64-bit",
   "language": "python",
   "name": "python3"
  },
  "language_info": {
   "codemirror_mode": {
    "name": "ipython",
    "version": 3
   },
   "file_extension": ".py",
   "mimetype": "text/x-python",
   "name": "python",
   "nbconvert_exporter": "python",
   "pygments_lexer": "ipython3",
   "version": "3.8.9"
  },
  "orig_nbformat": 4
 },
 "nbformat": 4,
 "nbformat_minor": 2
}
