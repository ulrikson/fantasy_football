{
 "cells": [
  {
   "cell_type": "markdown",
   "metadata": {},
   "source": [
    "# Setting up"
   ]
  },
  {
   "cell_type": "code",
   "execution_count": 1,
   "metadata": {},
   "outputs": [],
   "source": [
    "from Fantasy import Fantasy\n",
    "import warnings\n",
    "import matplotlib.pyplot as plt\n",
    "import requests\n",
    "%matplotlib inline\n",
    "plt.style.use('ggplot')\n",
    "\n",
    "warnings.filterwarnings(\"ignore\")\n",
    "\n",
    "league = 'fpl'\n",
    "\n",
    "if league == 'fpl':\n",
    "    url = 'https://fantasy.premierleague.com/api/bootstrap-static/'\n",
    "    goalkeeper = 'Goalkeeper'\n",
    "    defender = 'Defender'\n",
    "    midfielder = 'Midfielder'\n",
    "    forward = 'Forward'\n",
    "else:\n",
    "    url = 'https://fantasy.allsvenskan.se/api/bootstrap-static/'\n",
    "    goalkeeper = 'Målvakt'\n",
    "    defender = 'Försvarare'\n",
    "    midfielder = 'Mittfältare'\n",
    "    forward = 'Anfallare'\n",
    "\n",
    "response = requests.get(url)\n",
    "json = response.json()\n",
    "\n",
    "# due to FDR\n",
    "unwanted_teams = []\n",
    "\n",
    "higher_than = {\n",
    "    'value_season': 0,\n",
    "    'value_season_adj': 0.5, # for filtering\n",
    "    'form': 0,\n",
    "    'value_form': 0,\n",
    "    'minutes': 90*5,\n",
    "    'points_per_game': 0\n",
    "}\n",
    "\n",
    "max_cost = 1000\n",
    "\n",
    "fantasy = Fantasy(json, unwanted_teams, higher_than, max_cost)\n",
    "\n",
    "\n",
    "def getBarPlot(column, element):\n",
    "    pivot = fantasy.createPivot(column, element).sort_values(element)\n",
    "\n",
    "    pivot.plot(kind='barh', x=column, figsize=(10, 6))\n",
    "\n",
    "\n",
    "def getScatterPlot(position, x, y):\n",
    "    df = fantasy.dfFiltered('element_type', position, 'value_season')\n",
    "\n",
    "    ax = df.plot.scatter(x=x, y=y, alpha=.5, figsize=(\n",
    "        20, 10), title=f\"{position}: {x} v {y}\")\n",
    "\n",
    "    for i, txt in enumerate(df.web_name):\n",
    "        ax.annotate(txt, (df[x].iat[i], df[y].iat[i]))\n",
    "\n",
    "    plt.grid(which='both', axis='both', ls='-')\n",
    "    plt.show()\n"
   ]
  },
  {
   "cell_type": "markdown",
   "metadata": {},
   "source": [
    "# Aggregate"
   ]
  },
  {
   "cell_type": "code",
   "execution_count": 2,
   "metadata": {},
   "outputs": [
    {
     "data": {
      "image/png": "[encoded data removed]",
      "text/plain": [
       "<Figure size 720x432 with 1 Axes>"
      ]
     },
     "metadata": {},
     "output_type": "display_data"
    }
   ],
   "source": [
    "# Avg value per position\n",
    "getBarPlot('element_type', 'value_season_adj')"
   ]
  },
  {
   "cell_type": "code",
   "execution_count": null,
   "metadata": {},
   "outputs": [],
   "source": [
    "# Avg value per team\n",
    "getBarPlot('team', 'value_season_adj')"
   ]
  },
  {
   "cell_type": "code",
   "execution_count": null,
   "metadata": {},
   "outputs": [],
   "source": [
    "# Avg form per team\n",
    "getBarPlot('team', 'form')"
   ]
  },
  {
   "cell_type": "markdown",
   "metadata": {},
   "source": [
    "# Players overall"
   ]
  },
  {
   "cell_type": "code",
   "execution_count": null,
   "metadata": {},
   "outputs": [],
   "source": [
    "# Most valuable 15\n",
    "gk_df = fantasy.dfFiltered('element_type', goalkeeper, 'value_season_adj').head(2)\n",
    "def_df = fantasy.dfFiltered('element_type', defender, 'value_season_adj').head(5)\n",
    "mid_df = fantasy.dfFiltered('element_type', midfielder, 'value_season_adj').head(5)\n",
    "fwd_df = fantasy.dfFiltered('element_type', forward, 'value_season_adj').head(3)\n",
    "\n",
    "top = gk_df.append(def_df).append(mid_df).append(fwd_df)\n",
    "top"
   ]
  },
  {
   "cell_type": "code",
   "execution_count": null,
   "metadata": {},
   "outputs": [],
   "source": [
    "# Sorting by value season\n",
    "fantasy.getPlayerDf().sort_values('value_season_adj', ascending=False).head(10)"
   ]
  },
  {
   "cell_type": "code",
   "execution_count": null,
   "metadata": {},
   "outputs": [],
   "source": [
    "# Sorting by form\n",
    "fantasy.getPlayerDf().sort_values('form', ascending=False).head(10)"
   ]
  },
  {
   "cell_type": "code",
   "execution_count": null,
   "metadata": {},
   "outputs": [],
   "source": [
    "# Scatterplot of most valuable players\n",
    "\n",
    "x = 'total_points'\n",
    "y = 'value_season_adj'\n",
    "\n",
    "top_gk = fantasy.dfFiltered('element_type', goalkeeper, x).head()\n",
    "top_def = fantasy.dfFiltered('element_type', defender, x).head()\n",
    "top_mid = fantasy.dfFiltered('element_type', midfielder, x).head()\n",
    "top_fwd = fantasy.dfFiltered('element_type', forward, x).head()\n",
    "\n",
    "ax = top_gk.plot.scatter(x=x, y=y, color='DarkBlue', label='GK', s=top_gk[x], alpha=.5, figsize=(15,10), title=\"Top 5 Players by Position\")\n",
    "for i, txt in enumerate(top_gk.web_name):\n",
    "    ax.annotate(txt, (top_gk[x].iat[i],top_gk[y].iat[i]))\n",
    "\n",
    "top_def.plot.scatter(x=x, y=y, color='DarkGreen', label='DEF', s=top_gk[x], ax=ax)\n",
    "for i, txt in enumerate(top_def.web_name):\n",
    "    ax.annotate(txt, (top_def[x].iat[i],top_def[y].iat[i]))\n",
    "    \n",
    "top_mid.plot.scatter(x=x, y=y, color='DarkOrange', label='MID', s=top_gk[x], ax=ax)\n",
    "for i, txt in enumerate(top_mid.web_name):\n",
    "    ax.annotate(txt, (top_mid[x].iat[i],top_mid[y].iat[i]))\n",
    "    \n",
    "top_fwd.plot.scatter(x=x, y=y, color='DarkRed', label='FWD', s=top_gk[x], ax=ax)\n",
    "for i, txt in enumerate(top_fwd.web_name):\n",
    "    ax.annotate(txt, (top_fwd[x].iat[i],top_fwd[y].iat[i]))"
   ]
  },
  {
   "cell_type": "markdown",
   "metadata": {},
   "source": [
    "# Goalkeepers"
   ]
  },
  {
   "cell_type": "code",
   "execution_count": null,
   "metadata": {},
   "outputs": [],
   "source": [
    "# Value\n",
    "fantasy.dfFiltered('element_type', goalkeeper, 'value_season_adj').head(5)"
   ]
  },
  {
   "cell_type": "code",
   "execution_count": null,
   "metadata": {},
   "outputs": [],
   "source": [
    "# Form\n",
    "fantasy.dfFiltered('element_type', goalkeeper, 'form').head(5)"
   ]
  },
  {
   "cell_type": "code",
   "execution_count": null,
   "metadata": {},
   "outputs": [],
   "source": [
    "getScatterPlot(goalkeeper, 'form', 'value_season_adj')\n",
    "getScatterPlot(goalkeeper, 'now_cost', 'value_season_adj')"
   ]
  },
  {
   "cell_type": "markdown",
   "metadata": {},
   "source": [
    "# Defenders"
   ]
  },
  {
   "cell_type": "code",
   "execution_count": null,
   "metadata": {},
   "outputs": [],
   "source": [
    "# Value\n",
    "fantasy.dfFiltered('element_type', defender, 'value_season_adj').head(5)"
   ]
  },
  {
   "cell_type": "code",
   "execution_count": null,
   "metadata": {},
   "outputs": [],
   "source": [
    "# Form\n",
    "fantasy.dfFiltered('element_type', defender, 'form').head(5)"
   ]
  },
  {
   "cell_type": "code",
   "execution_count": null,
   "metadata": {},
   "outputs": [],
   "source": [
    "getScatterPlot(defender, 'form', 'value_season_adj')\n",
    "getScatterPlot(defender, 'now_cost', 'value_season_adj')"
   ]
  },
  {
   "cell_type": "markdown",
   "metadata": {},
   "source": [
    "# Midfielders"
   ]
  },
  {
   "cell_type": "code",
   "execution_count": null,
   "metadata": {},
   "outputs": [],
   "source": [
    "# Value\n",
    "fantasy.dfFiltered('element_type', midfielder, 'value_season_adj').head(5)"
   ]
  },
  {
   "cell_type": "code",
   "execution_count": null,
   "metadata": {},
   "outputs": [],
   "source": [
    "# Value\n",
    "fantasy.dfFiltered('element_type', midfielder, 'form').head(5)"
   ]
  },
  {
   "cell_type": "code",
   "execution_count": null,
   "metadata": {},
   "outputs": [],
   "source": [
    "getScatterPlot(midfielder, 'form', 'value_season_adj')\n",
    "getScatterPlot(midfielder, 'now_cost', 'value_season_adj')"
   ]
  },
  {
   "cell_type": "markdown",
   "metadata": {},
   "source": [
    "# Forwards"
   ]
  },
  {
   "cell_type": "code",
   "execution_count": null,
   "metadata": {},
   "outputs": [],
   "source": [
    "# Value\n",
    "fantasy.dfFiltered('element_type', forward, 'value_season_adj').head(5)"
   ]
  },
  {
   "cell_type": "code",
   "execution_count": null,
   "metadata": {},
   "outputs": [],
   "source": [
    "# Value\n",
    "fantasy.dfFiltered('element_type', forward, 'form').head(5)"
   ]
  },
  {
   "cell_type": "code",
   "execution_count": null,
   "metadata": {},
   "outputs": [],
   "source": [
    "getScatterPlot(forward, 'form', 'value_season_adj')\n",
    "getScatterPlot(forward, 'now_cost', 'value_season_adj')"
   ]
  },
  {
   "cell_type": "code",
   "execution_count": null,
   "metadata": {},
   "outputs": [],
   "source": []
  }
 ],
 "metadata": {
  "interpreter": {
   "hash": "31f2aee4e71d21fbe5cf8b01ff0e069b9275f58929596ceb00d14d90e3e16cd6"
  },
  "kernelspec": {
   "display_name": "Python 3.8.9 64-bit",
   "language": "python",
   "name": "python3"
  },
  "language_info": {
   "codemirror_mode": {
    "name": "ipython",
    "version": 3
   },
   "file_extension": ".py",
   "mimetype": "text/x-python",
   "name": "python",
   "nbconvert_exporter": "python",
   "pygments_lexer": "ipython3",
   "version": "3.8.9"
  },
  "orig_nbformat": 4
 },
 "nbformat": 4,
 "nbformat_minor": 2
}
