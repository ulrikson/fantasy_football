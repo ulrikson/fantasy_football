{
 "cells": [
  {
   "cell_type": "markdown",
   "metadata": {},
   "source": [
    "# Setting up"
   ]
  },
  {
   "cell_type": "code",
   "execution_count": 1,
   "metadata": {},
   "outputs": [
    {
     "data": {
      "text/html": [
       "<div>\n",
       "<style scoped>\n",
       "    .dataframe tbody tr th:only-of-type {\n",
       "        vertical-align: middle;\n",
       "    }\n",
       "\n",
       "    .dataframe tbody tr th {\n",
       "        vertical-align: top;\n",
       "    }\n",
       "\n",
       "    .dataframe thead th {\n",
       "        text-align: right;\n",
       "    }\n",
       "</style>\n",
       "<table border=\"1\" class=\"dataframe\">\n",
       "  <thead>\n",
       "    <tr style=\"text-align: right;\">\n",
       "      <th></th>\n",
       "      <th>points_per_game</th>\n",
       "      <th>now_cost</th>\n",
       "      <th>minutes</th>\n",
       "      <th>value_season</th>\n",
       "      <th>total_points</th>\n",
       "      <th>form</th>\n",
       "      <th>value_season_adj</th>\n",
       "    </tr>\n",
       "  </thead>\n",
       "  <tbody>\n",
       "    <tr>\n",
       "      <th>count</th>\n",
       "      <td>443.000000</td>\n",
       "      <td>443.000000</td>\n",
       "      <td>443.000000</td>\n",
       "      <td>443.000000</td>\n",
       "      <td>443.000000</td>\n",
       "      <td>443.000000</td>\n",
       "      <td>326.000000</td>\n",
       "    </tr>\n",
       "    <tr>\n",
       "      <th>mean</th>\n",
       "      <td>2.158014</td>\n",
       "      <td>52.711061</td>\n",
       "      <td>329.453725</td>\n",
       "      <td>2.827540</td>\n",
       "      <td>16.092551</td>\n",
       "      <td>1.755530</td>\n",
       "      <td>5.283129</td>\n",
       "    </tr>\n",
       "    <tr>\n",
       "      <th>std</th>\n",
       "      <td>1.865051</td>\n",
       "      <td>13.599060</td>\n",
       "      <td>312.170782</td>\n",
       "      <td>2.694726</td>\n",
       "      <td>16.055137</td>\n",
       "      <td>1.929829</td>\n",
       "      <td>2.742788</td>\n",
       "    </tr>\n",
       "    <tr>\n",
       "      <th>min</th>\n",
       "      <td>0.000000</td>\n",
       "      <td>38.000000</td>\n",
       "      <td>0.000000</td>\n",
       "      <td>0.000000</td>\n",
       "      <td>0.000000</td>\n",
       "      <td>-0.200000</td>\n",
       "      <td>0.600000</td>\n",
       "    </tr>\n",
       "    <tr>\n",
       "      <th>25%</th>\n",
       "      <td>0.000000</td>\n",
       "      <td>44.000000</td>\n",
       "      <td>0.000000</td>\n",
       "      <td>0.000000</td>\n",
       "      <td>0.000000</td>\n",
       "      <td>0.000000</td>\n",
       "      <td>2.925000</td>\n",
       "    </tr>\n",
       "    <tr>\n",
       "      <th>50%</th>\n",
       "      <td>2.000000</td>\n",
       "      <td>49.000000</td>\n",
       "      <td>276.000000</td>\n",
       "      <td>2.200000</td>\n",
       "      <td>11.000000</td>\n",
       "      <td>1.000000</td>\n",
       "      <td>5.300000</td>\n",
       "    </tr>\n",
       "    <tr>\n",
       "      <th>75%</th>\n",
       "      <td>3.600000</td>\n",
       "      <td>57.000000</td>\n",
       "      <td>634.500000</td>\n",
       "      <td>4.950000</td>\n",
       "      <td>29.000000</td>\n",
       "      <td>3.000000</td>\n",
       "      <td>6.900000</td>\n",
       "    </tr>\n",
       "    <tr>\n",
       "      <th>max</th>\n",
       "      <td>9.500000</td>\n",
       "      <td>120.000000</td>\n",
       "      <td>900.000000</td>\n",
       "      <td>9.400000</td>\n",
       "      <td>76.000000</td>\n",
       "      <td>11.000000</td>\n",
       "      <td>21.000000</td>\n",
       "    </tr>\n",
       "  </tbody>\n",
       "</table>\n",
       "</div>"
      ],
      "text/plain": [
       "       points_per_game    now_cost     minutes  value_season  total_points  \\\n",
       "count       443.000000  443.000000  443.000000    443.000000    443.000000   \n",
       "mean          2.158014   52.711061  329.453725      2.827540     16.092551   \n",
       "std           1.865051   13.599060  312.170782      2.694726     16.055137   \n",
       "min           0.000000   38.000000    0.000000      0.000000      0.000000   \n",
       "25%           0.000000   44.000000    0.000000      0.000000      0.000000   \n",
       "50%           2.000000   49.000000  276.000000      2.200000     11.000000   \n",
       "75%           3.600000   57.000000  634.500000      4.950000     29.000000   \n",
       "max           9.500000  120.000000  900.000000      9.400000     76.000000   \n",
       "\n",
       "             form  value_season_adj  \n",
       "count  443.000000        326.000000  \n",
       "mean     1.755530          5.283129  \n",
       "std      1.929829          2.742788  \n",
       "min     -0.200000          0.600000  \n",
       "25%      0.000000          2.925000  \n",
       "50%      1.000000          5.300000  \n",
       "75%      3.000000          6.900000  \n",
       "max     11.000000         21.000000  "
      ]
     },
     "execution_count": 1,
     "metadata": {},
     "output_type": "execute_result"
    }
   ],
   "source": [
    "from Fantasy import Fantasy\n",
    "\n",
    "league = \"fal\"\n",
    "fantasy = Fantasy(league)\n",
    "\n",
    "fantasy.get_player_df().describe()\n"
   ]
  },
  {
   "cell_type": "markdown",
   "metadata": {},
   "source": [
    "# Aggregate"
   ]
  },
  {
   "cell_type": "markdown",
   "metadata": {},
   "source": [
    "To see where to focus your money, look at which positions are most valuable"
   ]
  },
  {
   "cell_type": "code",
   "execution_count": 2,
   "metadata": {},
   "outputs": [
    {
     "data": {
      "image/png": "[encoded data removed]",
      "text/plain": [
       "<Figure size 576x288 with 1 Axes>"
      ]
     },
     "metadata": {},
     "output_type": "display_data"
    }
   ],
   "source": [
    "# Avg value per position\n",
    "fantasy.get_bar_plot(\"element_type\", \"value_season_adj\")\n"
   ]
  },
  {
   "cell_type": "markdown",
   "metadata": {},
   "source": [
    "# Players overall"
   ]
  },
  {
   "cell_type": "markdown",
   "metadata": {},
   "source": [
    "Top performers are must haves. They're top 10% in value, form and if you're using FPL, also ICT"
   ]
  },
  {
   "cell_type": "code",
   "execution_count": 3,
   "metadata": {},
   "outputs": [
    {
     "data": {
      "text/html": [
       "<div>\n",
       "<style scoped>\n",
       "    .dataframe tbody tr th:only-of-type {\n",
       "        vertical-align: middle;\n",
       "    }\n",
       "\n",
       "    .dataframe tbody tr th {\n",
       "        vertical-align: top;\n",
       "    }\n",
       "\n",
       "    .dataframe thead th {\n",
       "        text-align: right;\n",
       "    }\n",
       "</style>\n",
       "<table border=\"1\" class=\"dataframe\">\n",
       "  <thead>\n",
       "    <tr style=\"text-align: right;\">\n",
       "      <th></th>\n",
       "      <th>web_name</th>\n",
       "      <th>team</th>\n",
       "      <th>element_type</th>\n",
       "      <th>points_per_game</th>\n",
       "      <th>now_cost</th>\n",
       "      <th>minutes</th>\n",
       "      <th>value_season</th>\n",
       "      <th>total_points</th>\n",
       "      <th>form</th>\n",
       "      <th>value_season_adj</th>\n",
       "    </tr>\n",
       "  </thead>\n",
       "  <tbody>\n",
       "    <tr>\n",
       "      <th>390</th>\n",
       "      <td>Saidi</td>\n",
       "      <td>Degerfors IF</td>\n",
       "      <td>Midfielder</td>\n",
       "      <td>5.8</td>\n",
       "      <td>55.0</td>\n",
       "      <td>589.0</td>\n",
       "      <td>8.4</td>\n",
       "      <td>46.0</td>\n",
       "      <td>7.0</td>\n",
       "      <td>10.6</td>\n",
       "    </tr>\n",
       "    <tr>\n",
       "      <th>224</th>\n",
       "      <td>Jeremejeff</td>\n",
       "      <td>BK Häcken</td>\n",
       "      <td>Forward</td>\n",
       "      <td>9.5</td>\n",
       "      <td>97.0</td>\n",
       "      <td>700.0</td>\n",
       "      <td>7.8</td>\n",
       "      <td>76.0</td>\n",
       "      <td>11.0</td>\n",
       "      <td>9.8</td>\n",
       "    </tr>\n",
       "    <tr>\n",
       "      <th>181</th>\n",
       "      <td>Zandén</td>\n",
       "      <td>IF Elfsborg</td>\n",
       "      <td>Defender</td>\n",
       "      <td>4.9</td>\n",
       "      <td>50.0</td>\n",
       "      <td>556.0</td>\n",
       "      <td>8.8</td>\n",
       "      <td>44.0</td>\n",
       "      <td>5.6</td>\n",
       "      <td>9.8</td>\n",
       "    </tr>\n",
       "    <tr>\n",
       "      <th>113</th>\n",
       "      <td>Jeahze</td>\n",
       "      <td>Hammarby</td>\n",
       "      <td>Defender</td>\n",
       "      <td>7.4</td>\n",
       "      <td>67.0</td>\n",
       "      <td>673.0</td>\n",
       "      <td>8.8</td>\n",
       "      <td>59.0</td>\n",
       "      <td>6.6</td>\n",
       "      <td>11.0</td>\n",
       "    </tr>\n",
       "    <tr>\n",
       "      <th>239</th>\n",
       "      <td>Hien</td>\n",
       "      <td>Djurgården</td>\n",
       "      <td>Defender</td>\n",
       "      <td>5.9</td>\n",
       "      <td>50.0</td>\n",
       "      <td>570.0</td>\n",
       "      <td>9.4</td>\n",
       "      <td>47.0</td>\n",
       "      <td>8.0</td>\n",
       "      <td>11.8</td>\n",
       "    </tr>\n",
       "  </tbody>\n",
       "</table>\n",
       "</div>"
      ],
      "text/plain": [
       "       web_name          team element_type  points_per_game  now_cost  \\\n",
       "390       Saidi  Degerfors IF   Midfielder              5.8      55.0   \n",
       "224  Jeremejeff     BK Häcken      Forward              9.5      97.0   \n",
       "181      Zandén   IF Elfsborg     Defender              4.9      50.0   \n",
       "113      Jeahze      Hammarby     Defender              7.4      67.0   \n",
       "239        Hien    Djurgården     Defender              5.9      50.0   \n",
       "\n",
       "     minutes  value_season  total_points  form  value_season_adj  \n",
       "390    589.0           8.4          46.0   7.0              10.6  \n",
       "224    700.0           7.8          76.0  11.0               9.8  \n",
       "181    556.0           8.8          44.0   5.6               9.8  \n",
       "113    673.0           8.8          59.0   6.6              11.0  \n",
       "239    570.0           9.4          47.0   8.0              11.8  "
      ]
     },
     "execution_count": 3,
     "metadata": {},
     "output_type": "execute_result"
    }
   ],
   "source": [
    "fantasy.get_top_performers()\n"
   ]
  },
  {
   "cell_type": "markdown",
   "metadata": {},
   "source": [
    "Top point players are also must haves. They're the ones with the most points."
   ]
  },
  {
   "cell_type": "code",
   "execution_count": 4,
   "metadata": {},
   "outputs": [
    {
     "data": {
      "text/html": [
       "<div>\n",
       "<style scoped>\n",
       "    .dataframe tbody tr th:only-of-type {\n",
       "        vertical-align: middle;\n",
       "    }\n",
       "\n",
       "    .dataframe tbody tr th {\n",
       "        vertical-align: top;\n",
       "    }\n",
       "\n",
       "    .dataframe thead th {\n",
       "        text-align: right;\n",
       "    }\n",
       "</style>\n",
       "<table border=\"1\" class=\"dataframe\">\n",
       "  <thead>\n",
       "    <tr style=\"text-align: right;\">\n",
       "      <th></th>\n",
       "      <th>web_name</th>\n",
       "      <th>team</th>\n",
       "      <th>element_type</th>\n",
       "      <th>points_per_game</th>\n",
       "      <th>now_cost</th>\n",
       "      <th>minutes</th>\n",
       "      <th>value_season</th>\n",
       "      <th>total_points</th>\n",
       "      <th>form</th>\n",
       "      <th>value_season_adj</th>\n",
       "    </tr>\n",
       "  </thead>\n",
       "  <tbody>\n",
       "    <tr>\n",
       "      <th>224</th>\n",
       "      <td>Jeremejeff</td>\n",
       "      <td>BK Häcken</td>\n",
       "      <td>Forward</td>\n",
       "      <td>9.5</td>\n",
       "      <td>97.0</td>\n",
       "      <td>700.0</td>\n",
       "      <td>7.8</td>\n",
       "      <td>76.0</td>\n",
       "      <td>11.0</td>\n",
       "      <td>9.8</td>\n",
       "    </tr>\n",
       "    <tr>\n",
       "      <th>126</th>\n",
       "      <td>Besara</td>\n",
       "      <td>Hammarby</td>\n",
       "      <td>Midfielder</td>\n",
       "      <td>7.2</td>\n",
       "      <td>86.0</td>\n",
       "      <td>700.0</td>\n",
       "      <td>7.6</td>\n",
       "      <td>65.0</td>\n",
       "      <td>5.8</td>\n",
       "      <td>8.4</td>\n",
       "    </tr>\n",
       "    <tr>\n",
       "      <th>270</th>\n",
       "      <td>Levi</td>\n",
       "      <td>IFK Norrköping</td>\n",
       "      <td>Midfielder</td>\n",
       "      <td>7.0</td>\n",
       "      <td>92.0</td>\n",
       "      <td>714.0</td>\n",
       "      <td>6.8</td>\n",
       "      <td>63.0</td>\n",
       "      <td>9.0</td>\n",
       "      <td>7.6</td>\n",
       "    </tr>\n",
       "  </tbody>\n",
       "</table>\n",
       "</div>"
      ],
      "text/plain": [
       "       web_name            team element_type  points_per_game  now_cost  \\\n",
       "224  Jeremejeff       BK Häcken      Forward              9.5      97.0   \n",
       "126      Besara        Hammarby   Midfielder              7.2      86.0   \n",
       "270        Levi  IFK Norrköping   Midfielder              7.0      92.0   \n",
       "\n",
       "     minutes  value_season  total_points  form  value_season_adj  \n",
       "224    700.0           7.8          76.0  11.0               9.8  \n",
       "126    700.0           7.6          65.0   5.8               8.4  \n",
       "270    714.0           6.8          63.0   9.0               7.6  "
      ]
     },
     "execution_count": 4,
     "metadata": {},
     "output_type": "execute_result"
    }
   ],
   "source": [
    "fantasy.get_top_points()"
   ]
  },
  {
   "cell_type": "markdown",
   "metadata": {},
   "source": [
    "# Goalkeepers"
   ]
  },
  {
   "cell_type": "markdown",
   "metadata": {},
   "source": [
    "The best performing goalkeepers"
   ]
  },
  {
   "cell_type": "code",
   "execution_count": 5,
   "metadata": {},
   "outputs": [
    {
     "name": "stdout",
     "output_type": "stream",
     "text": [
      "p: 0.6360742617710682\n"
     ]
    },
    {
     "data": {
      "image/png": "[encoded data removed]",
      "text/plain": [
       "<Figure size 1440x720 with 1 Axes>"
      ]
     },
     "metadata": {},
     "output_type": "display_data"
    }
   ],
   "source": [
    "# Those over the line are outperforming their current price\n",
    "fantasy.get_player_scatterplot(\"Goalkeeper\", \"now_cost\", \"points_per_game\", True)"
   ]
  },
  {
   "cell_type": "code",
   "execution_count": null,
   "metadata": {},
   "outputs": [],
   "source": [
    "fantasy.get_player_scatterplot(\"Goalkeeper\", \"form\", \"value_season_adj\")\n"
   ]
  },
  {
   "cell_type": "markdown",
   "metadata": {},
   "source": [
    "# Defenders"
   ]
  },
  {
   "cell_type": "code",
   "execution_count": null,
   "metadata": {},
   "outputs": [],
   "source": [
    "# Those over the line are outperforming their current price\n",
    "fantasy.get_player_scatterplot(\"Defender\", \"now_cost\", \"points_per_game\", True)"
   ]
  },
  {
   "cell_type": "markdown",
   "metadata": {},
   "source": [
    "The best performing defenders"
   ]
  },
  {
   "cell_type": "code",
   "execution_count": null,
   "metadata": {},
   "outputs": [],
   "source": [
    "fantasy.get_player_scatterplot(\"Defender\", \"form\", \"value_season_adj\")\n"
   ]
  },
  {
   "cell_type": "markdown",
   "metadata": {},
   "source": [
    "# Midfielders"
   ]
  },
  {
   "cell_type": "code",
   "execution_count": null,
   "metadata": {},
   "outputs": [],
   "source": [
    "# Those over the line are outperforming their current price\n",
    "fantasy.get_player_scatterplot(\"Midfielder\", \"now_cost\", \"points_per_game\", True)"
   ]
  },
  {
   "cell_type": "markdown",
   "metadata": {},
   "source": [
    "The best performing midfielders"
   ]
  },
  {
   "cell_type": "code",
   "execution_count": null,
   "metadata": {},
   "outputs": [],
   "source": [
    "fantasy.get_player_scatterplot(\"Midfielder\", \"form\", \"value_season_adj\")\n"
   ]
  },
  {
   "cell_type": "markdown",
   "metadata": {},
   "source": [
    "# Forwards"
   ]
  },
  {
   "cell_type": "code",
   "execution_count": null,
   "metadata": {},
   "outputs": [],
   "source": [
    "# Those over the line are outperforming their current price\n",
    "fantasy.get_player_scatterplot(\"Forward\", \"now_cost\", \"points_per_game\", True)"
   ]
  },
  {
   "cell_type": "markdown",
   "metadata": {},
   "source": [
    "The best performing forwards"
   ]
  },
  {
   "cell_type": "code",
   "execution_count": null,
   "metadata": {},
   "outputs": [],
   "source": [
    "fantasy.get_player_scatterplot(\"Forward\", \"form\", \"value_season_adj\")\n"
   ]
  }
 ],
 "metadata": {
  "interpreter": {
   "hash": "31f2aee4e71d21fbe5cf8b01ff0e069b9275f58929596ceb00d14d90e3e16cd6"
  },
  "kernelspec": {
   "display_name": "Python 3.8.9 64-bit",
   "language": "python",
   "name": "python3"
  },
  "language_info": {
   "codemirror_mode": {
    "name": "ipython",
    "version": 3
   },
   "file_extension": ".py",
   "mimetype": "text/x-python",
   "name": "python",
   "nbconvert_exporter": "python",
   "pygments_lexer": "ipython3",
   "version": "3.8.9"
  },
  "orig_nbformat": 4
 },
 "nbformat": 4,
 "nbformat_minor": 2
}
