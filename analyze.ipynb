{
 "cells": [
  {
   "cell_type": "markdown",
   "metadata": {},
   "source": [
    "# Setting up"
   ]
  },
  {
   "cell_type": "code",
   "execution_count": 1,
   "metadata": {},
   "outputs": [
    {
     "data": {
      "text/html": [
       "<div>\n",
       "<style scoped>\n",
       "    .dataframe tbody tr th:only-of-type {\n",
       "        vertical-align: middle;\n",
       "    }\n",
       "\n",
       "    .dataframe tbody tr th {\n",
       "        vertical-align: top;\n",
       "    }\n",
       "\n",
       "    .dataframe thead th {\n",
       "        text-align: right;\n",
       "    }\n",
       "</style>\n",
       "<table border=\"1\" class=\"dataframe\">\n",
       "  <thead>\n",
       "    <tr style=\"text-align: right;\">\n",
       "      <th></th>\n",
       "      <th>points_per_game</th>\n",
       "      <th>now_cost</th>\n",
       "      <th>minutes</th>\n",
       "      <th>value_season</th>\n",
       "      <th>total_points</th>\n",
       "      <th>form</th>\n",
       "      <th>value_season_adj</th>\n",
       "    </tr>\n",
       "  </thead>\n",
       "  <tbody>\n",
       "    <tr>\n",
       "      <th>count</th>\n",
       "      <td>103.000000</td>\n",
       "      <td>103.000000</td>\n",
       "      <td>103.000000</td>\n",
       "      <td>103.000000</td>\n",
       "      <td>103.000000</td>\n",
       "      <td>103.000000</td>\n",
       "      <td>103.000000</td>\n",
       "    </tr>\n",
       "    <tr>\n",
       "      <th>mean</th>\n",
       "      <td>4.433981</td>\n",
       "      <td>57.757282</td>\n",
       "      <td>561.213592</td>\n",
       "      <td>5.343689</td>\n",
       "      <td>30.388350</td>\n",
       "      <td>4.440777</td>\n",
       "      <td>7.827184</td>\n",
       "    </tr>\n",
       "    <tr>\n",
       "      <th>std</th>\n",
       "      <td>1.050355</td>\n",
       "      <td>12.952754</td>\n",
       "      <td>115.056478</td>\n",
       "      <td>1.161530</td>\n",
       "      <td>7.450797</td>\n",
       "      <td>0.888757</td>\n",
       "      <td>1.731099</td>\n",
       "    </tr>\n",
       "    <tr>\n",
       "      <th>min</th>\n",
       "      <td>2.700000</td>\n",
       "      <td>40.000000</td>\n",
       "      <td>148.000000</td>\n",
       "      <td>3.400000</td>\n",
       "      <td>16.000000</td>\n",
       "      <td>3.200000</td>\n",
       "      <td>5.100000</td>\n",
       "    </tr>\n",
       "    <tr>\n",
       "      <th>25%</th>\n",
       "      <td>3.600000</td>\n",
       "      <td>50.000000</td>\n",
       "      <td>508.000000</td>\n",
       "      <td>4.400000</td>\n",
       "      <td>24.500000</td>\n",
       "      <td>3.800000</td>\n",
       "      <td>6.600000</td>\n",
       "    </tr>\n",
       "    <tr>\n",
       "      <th>50%</th>\n",
       "      <td>4.300000</td>\n",
       "      <td>55.000000</td>\n",
       "      <td>604.000000</td>\n",
       "      <td>5.100000</td>\n",
       "      <td>30.000000</td>\n",
       "      <td>4.400000</td>\n",
       "      <td>7.400000</td>\n",
       "    </tr>\n",
       "    <tr>\n",
       "      <th>75%</th>\n",
       "      <td>5.000000</td>\n",
       "      <td>64.000000</td>\n",
       "      <td>630.000000</td>\n",
       "      <td>6.200000</td>\n",
       "      <td>35.000000</td>\n",
       "      <td>5.100000</td>\n",
       "      <td>8.950000</td>\n",
       "    </tr>\n",
       "    <tr>\n",
       "      <th>max</th>\n",
       "      <td>8.500000</td>\n",
       "      <td>101.000000</td>\n",
       "      <td>720.000000</td>\n",
       "      <td>8.200000</td>\n",
       "      <td>51.000000</td>\n",
       "      <td>7.000000</td>\n",
       "      <td>12.400000</td>\n",
       "    </tr>\n",
       "  </tbody>\n",
       "</table>\n",
       "</div>"
      ],
      "text/plain": [
       "       points_per_game    now_cost     minutes  value_season  total_points  \\\n",
       "count       103.000000  103.000000  103.000000    103.000000    103.000000   \n",
       "mean          4.433981   57.757282  561.213592      5.343689     30.388350   \n",
       "std           1.050355   12.952754  115.056478      1.161530      7.450797   \n",
       "min           2.700000   40.000000  148.000000      3.400000     16.000000   \n",
       "25%           3.600000   50.000000  508.000000      4.400000     24.500000   \n",
       "50%           4.300000   55.000000  604.000000      5.100000     30.000000   \n",
       "75%           5.000000   64.000000  630.000000      6.200000     35.000000   \n",
       "max           8.500000  101.000000  720.000000      8.200000     51.000000   \n",
       "\n",
       "             form  value_season_adj  \n",
       "count  103.000000        103.000000  \n",
       "mean     4.440777          7.827184  \n",
       "std      0.888757          1.731099  \n",
       "min      3.200000          5.100000  \n",
       "25%      3.800000          6.600000  \n",
       "50%      4.400000          7.400000  \n",
       "75%      5.100000          8.950000  \n",
       "max      7.000000         12.400000  "
      ]
     },
     "execution_count": 1,
     "metadata": {},
     "output_type": "execute_result"
    }
   ],
   "source": [
    "from Fantasy import Fantasy\n",
    "\n",
    "league = \"fal\"\n",
    "\n",
    "unwanted_teams = []\n",
    "\n",
    "\n",
    "if league == \"fpl\":\n",
    "    higher_than = {\n",
    "        \"value_season\": 0,\n",
    "        \"value_season_adj\": 5,\n",
    "        \"form\": 2,\n",
    "        \"minutes\": 90 * 5,\n",
    "        \"points_per_game\": 0,\n",
    "    }\n",
    "else:\n",
    "    higher_than = {\n",
    "        \"value_season\": 0,\n",
    "        \"value_season_adj\": 5,\n",
    "        \"form\": 3,\n",
    "        \"minutes\": 90 * 0.5,\n",
    "        \"points_per_game\": 0,\n",
    "    }\n",
    "    \n",
    "\n",
    "max_cost = 200\n",
    "\n",
    "fantasy = Fantasy(league, unwanted_teams, higher_than, max_cost)\n",
    "\n",
    "fantasy.get_player_df().describe()\n"
   ]
  },
  {
   "cell_type": "markdown",
   "metadata": {},
   "source": [
    "# Aggregate"
   ]
  },
  {
   "cell_type": "markdown",
   "metadata": {},
   "source": [
    "To see where to focus your money, look at which positions are most valuable"
   ]
  },
  {
   "cell_type": "code",
   "execution_count": null,
   "metadata": {},
   "outputs": [],
   "source": [
    "# Avg value per position\n",
    "fantasy.get_bar_plot(\"element_type\", \"value_season_adj\")\n"
   ]
  },
  {
   "cell_type": "markdown",
   "metadata": {},
   "source": [
    "# Players overall"
   ]
  },
  {
   "cell_type": "markdown",
   "metadata": {},
   "source": [
    "Top performers are must haves. They're top 10% in value, form and if you're using FPL, also ICT"
   ]
  },
  {
   "cell_type": "code",
   "execution_count": null,
   "metadata": {},
   "outputs": [],
   "source": [
    "fantasy.get_top_performers()\n"
   ]
  },
  {
   "cell_type": "markdown",
   "metadata": {},
   "source": [
    "Top point players are also must haves. They're the ones with the most points."
   ]
  },
  {
   "cell_type": "code",
   "execution_count": null,
   "metadata": {},
   "outputs": [],
   "source": [
    "fantasy.get_top_points()\n"
   ]
  },
  {
   "cell_type": "markdown",
   "metadata": {},
   "source": [
    "# Goalkeepers"
   ]
  },
  {
   "cell_type": "markdown",
   "metadata": {},
   "source": [
    "The best performing goalkeepers"
   ]
  },
  {
   "cell_type": "code",
   "execution_count": null,
   "metadata": {},
   "outputs": [],
   "source": [
    "# Those over the line are outperforming their current price\n",
    "fantasy.get_player_scatterplot(\"Goalkeeper\", \"now_cost\", \"points_per_game\", True)"
   ]
  },
  {
   "cell_type": "code",
   "execution_count": null,
   "metadata": {},
   "outputs": [],
   "source": [
    "fantasy.get_player_scatterplot(\"Goalkeeper\", \"form\", \"value_season_adj\")\n"
   ]
  },
  {
   "cell_type": "markdown",
   "metadata": {},
   "source": [
    "# Defenders"
   ]
  },
  {
   "cell_type": "code",
   "execution_count": null,
   "metadata": {},
   "outputs": [],
   "source": [
    "# Those over the line are outperforming their current price\n",
    "fantasy.get_player_scatterplot(\"Defender\", \"now_cost\", \"points_per_game\", True)"
   ]
  },
  {
   "cell_type": "markdown",
   "metadata": {},
   "source": [
    "The best performing defenders"
   ]
  },
  {
   "cell_type": "code",
   "execution_count": null,
   "metadata": {},
   "outputs": [],
   "source": [
    "fantasy.get_player_scatterplot(\"Defender\", \"form\", \"value_season_adj\")\n"
   ]
  },
  {
   "cell_type": "markdown",
   "metadata": {},
   "source": [
    "# Midfielders"
   ]
  },
  {
   "cell_type": "code",
   "execution_count": null,
   "metadata": {},
   "outputs": [],
   "source": [
    "# Those over the line are outperforming their current price\n",
    "fantasy.get_player_scatterplot(\"Midfielder\", \"now_cost\", \"points_per_game\", True)"
   ]
  },
  {
   "cell_type": "markdown",
   "metadata": {},
   "source": [
    "The best performing midfielders"
   ]
  },
  {
   "cell_type": "code",
   "execution_count": null,
   "metadata": {},
   "outputs": [],
   "source": [
    "fantasy.get_player_scatterplot(\"Midfielder\", \"form\", \"value_season_adj\")\n"
   ]
  },
  {
   "cell_type": "markdown",
   "metadata": {},
   "source": [
    "# Forwards"
   ]
  },
  {
   "cell_type": "code",
   "execution_count": null,
   "metadata": {},
   "outputs": [],
   "source": [
    "# Those over the line are outperforming their current price\n",
    "fantasy.get_player_scatterplot(\"Forward\", \"now_cost\", \"points_per_game\", True)"
   ]
  },
  {
   "cell_type": "markdown",
   "metadata": {},
   "source": [
    "The best performing forwards"
   ]
  },
  {
   "cell_type": "code",
   "execution_count": null,
   "metadata": {},
   "outputs": [],
   "source": [
    "fantasy.get_player_scatterplot(\"Forward\", \"form\", \"value_season_adj\")\n"
   ]
  },
  {
   "cell_type": "markdown",
   "metadata": {},
   "source": [
    "# Comparing players"
   ]
  },
  {
   "cell_type": "code",
   "execution_count": 3,
   "metadata": {},
   "outputs": [
    {
     "data": {
      "text/html": [
       "<div>\n",
       "<style scoped>\n",
       "    .dataframe tbody tr th:only-of-type {\n",
       "        vertical-align: middle;\n",
       "    }\n",
       "\n",
       "    .dataframe tbody tr th {\n",
       "        vertical-align: top;\n",
       "    }\n",
       "\n",
       "    .dataframe thead th {\n",
       "        text-align: right;\n",
       "    }\n",
       "</style>\n",
       "<table border=\"1\" class=\"dataframe\">\n",
       "  <thead>\n",
       "    <tr style=\"text-align: right;\">\n",
       "      <th></th>\n",
       "      <th>web_name</th>\n",
       "      <th>form</th>\n",
       "      <th>value_season_adj</th>\n",
       "      <th>points_per_game</th>\n",
       "      <th>now_cost</th>\n",
       "      <th>ep_next</th>\n",
       "    </tr>\n",
       "  </thead>\n",
       "  <tbody>\n",
       "    <tr>\n",
       "      <th>270</th>\n",
       "      <td>Levi</td>\n",
       "      <td>7.0</td>\n",
       "      <td>6.3</td>\n",
       "      <td>5.7</td>\n",
       "      <td>91.0</td>\n",
       "      <td>7.0</td>\n",
       "    </tr>\n",
       "    <tr>\n",
       "      <th>224</th>\n",
       "      <td>Jeremejeff</td>\n",
       "      <td>6.2</td>\n",
       "      <td>9.0</td>\n",
       "      <td>8.5</td>\n",
       "      <td>95.0</td>\n",
       "      <td>6.2</td>\n",
       "    </tr>\n",
       "  </tbody>\n",
       "</table>\n",
       "</div>"
      ],
      "text/plain": [
       "       web_name  form  value_season_adj  points_per_game  now_cost ep_next\n",
       "270        Levi   7.0               6.3              5.7      91.0     7.0\n",
       "224  Jeremejeff   6.2               9.0              8.5      95.0     6.2"
      ]
     },
     "execution_count": 3,
     "metadata": {},
     "output_type": "execute_result"
    }
   ],
   "source": [
    "players = [\"Jeremejeff\", \"Levi\"]\n",
    "fantasy.compare_players(players)"
   ]
  },
  {
   "cell_type": "code",
   "execution_count": null,
   "metadata": {},
   "outputs": [],
   "source": []
  }
 ],
 "metadata": {
  "interpreter": {
   "hash": "31f2aee4e71d21fbe5cf8b01ff0e069b9275f58929596ceb00d14d90e3e16cd6"
  },
  "kernelspec": {
   "display_name": "Python 3.8.9 64-bit",
   "language": "python",
   "name": "python3"
  },
  "language_info": {
   "codemirror_mode": {
    "name": "ipython",
    "version": 3
   },
   "file_extension": ".py",
   "mimetype": "text/x-python",
   "name": "python",
   "nbconvert_exporter": "python",
   "pygments_lexer": "ipython3",
   "version": "3.8.9"
  },
  "orig_nbformat": 4
 },
 "nbformat": 4,
 "nbformat_minor": 2
}
