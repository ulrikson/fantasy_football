{
 "cells": [
  {
   "cell_type": "code",
   "execution_count": 1,
   "metadata": {},
   "outputs": [],
   "source": [
    "import requests\n",
    "import pandas as pd\n",
    "import numpy as np\n",
    "\n",
    "from FPL import FPL\n",
    "\n",
    "import warnings\n",
    "warnings.filterwarnings(\"ignore\")"
   ]
  },
  {
   "cell_type": "markdown",
   "metadata": {},
   "source": [
    "# Setting up"
   ]
  },
  {
   "cell_type": "code",
   "execution_count": 2,
   "metadata": {},
   "outputs": [],
   "source": [
    "url = 'https://fantasy.premierleague.com/api/bootstrap-static/'\n",
    "response = requests.get(url)\n",
    "json = response.json()"
   ]
  },
  {
   "cell_type": "code",
   "execution_count": 3,
   "metadata": {},
   "outputs": [
    {
     "data": {
      "text/html": [
       "<div>\n",
       "<style scoped>\n",
       "    .dataframe tbody tr th:only-of-type {\n",
       "        vertical-align: middle;\n",
       "    }\n",
       "\n",
       "    .dataframe tbody tr th {\n",
       "        vertical-align: top;\n",
       "    }\n",
       "\n",
       "    .dataframe thead th {\n",
       "        text-align: right;\n",
       "    }\n",
       "</style>\n",
       "<table border=\"1\" class=\"dataframe\">\n",
       "  <thead>\n",
       "    <tr style=\"text-align: right;\">\n",
       "      <th></th>\n",
       "      <th>second_name</th>\n",
       "      <th>team</th>\n",
       "      <th>element_type</th>\n",
       "      <th>selected_by_percent</th>\n",
       "      <th>now_cost</th>\n",
       "      <th>minutes</th>\n",
       "      <th>transfers_in</th>\n",
       "      <th>value_season</th>\n",
       "      <th>total_points</th>\n",
       "      <th>form</th>\n",
       "      <th>position</th>\n",
       "    </tr>\n",
       "  </thead>\n",
       "  <tbody>\n",
       "    <tr>\n",
       "      <th>4</th>\n",
       "      <td>Soares</td>\n",
       "      <td>Arsenal</td>\n",
       "      <td>2</td>\n",
       "      <td>0.3</td>\n",
       "      <td>42</td>\n",
       "      <td>739.0</td>\n",
       "      <td>28878</td>\n",
       "      <td>4.5</td>\n",
       "      <td>19</td>\n",
       "      <td>1.8</td>\n",
       "      <td>Defender</td>\n",
       "    </tr>\n",
       "    <tr>\n",
       "      <th>5</th>\n",
       "      <td>Lacazette</td>\n",
       "      <td>Arsenal</td>\n",
       "      <td>4</td>\n",
       "      <td>8.7</td>\n",
       "      <td>84</td>\n",
       "      <td>1446.0</td>\n",
       "      <td>1591758</td>\n",
       "      <td>9.4</td>\n",
       "      <td>79</td>\n",
       "      <td>4.3</td>\n",
       "      <td>Forward</td>\n",
       "    </tr>\n",
       "    <tr>\n",
       "      <th>6</th>\n",
       "      <td>Xhaka</td>\n",
       "      <td>Arsenal</td>\n",
       "      <td>3</td>\n",
       "      <td>0.3</td>\n",
       "      <td>48</td>\n",
       "      <td>1365.0</td>\n",
       "      <td>29529</td>\n",
       "      <td>6.5</td>\n",
       "      <td>31</td>\n",
       "      <td>1.8</td>\n",
       "      <td>Midfielder</td>\n",
       "    </tr>\n",
       "    <tr>\n",
       "      <th>12</th>\n",
       "      <td>Holding</td>\n",
       "      <td>Arsenal</td>\n",
       "      <td>2</td>\n",
       "      <td>0.6</td>\n",
       "      <td>41</td>\n",
       "      <td>428.0</td>\n",
       "      <td>71341</td>\n",
       "      <td>3.7</td>\n",
       "      <td>15</td>\n",
       "      <td>0.2</td>\n",
       "      <td>Defender</td>\n",
       "    </tr>\n",
       "    <tr>\n",
       "      <th>13</th>\n",
       "      <td>Partey</td>\n",
       "      <td>Arsenal</td>\n",
       "      <td>3</td>\n",
       "      <td>0.4</td>\n",
       "      <td>50</td>\n",
       "      <td>1863.0</td>\n",
       "      <td>83372</td>\n",
       "      <td>13.6</td>\n",
       "      <td>68</td>\n",
       "      <td>4.2</td>\n",
       "      <td>Midfielder</td>\n",
       "    </tr>\n",
       "  </tbody>\n",
       "</table>\n",
       "</div>"
      ],
      "text/plain": [
       "   second_name     team  element_type selected_by_percent  now_cost  minutes  \\\n",
       "4       Soares  Arsenal             2                 0.3        42    739.0   \n",
       "5    Lacazette  Arsenal             4                 8.7        84   1446.0   \n",
       "6        Xhaka  Arsenal             3                 0.3        48   1365.0   \n",
       "12     Holding  Arsenal             2                 0.6        41    428.0   \n",
       "13      Partey  Arsenal             3                 0.4        50   1863.0   \n",
       "\n",
       "    transfers_in  value_season  total_points  form    position  \n",
       "4          28878           4.5            19   1.8    Defender  \n",
       "5        1591758           9.4            79   4.3     Forward  \n",
       "6          29529           6.5            31   1.8  Midfielder  \n",
       "12         71341           3.7            15   0.2    Defender  \n",
       "13         83372          13.6            68   4.2  Midfielder  "
      ]
     },
     "execution_count": 3,
     "metadata": {},
     "output_type": "execute_result"
    }
   ],
   "source": [
    "df = FPL(json).getPlayerDF()\n",
    "\n",
    "df = df.loc[df.value_season > 0]\n",
    "\n",
    "df.head()\n"
   ]
  },
  {
   "cell_type": "markdown",
   "metadata": {},
   "source": [
    "# Analyzing"
   ]
  },
  {
   "cell_type": "code",
   "execution_count": null,
   "metadata": {},
   "outputs": [],
   "source": [
    "# Sorting by \n",
    "df.sort_values('value_season',ascending=False).head(10)"
   ]
  },
  {
   "cell_type": "markdown",
   "metadata": {},
   "source": [
    "HERE AND DOWNWARDS SHOULD BE MADE INTO FUNCTIONS"
   ]
  },
  {
   "cell_type": "code",
   "execution_count": null,
   "metadata": {},
   "outputs": [],
   "source": [
    "# Avg value per position\n",
    "position_pivot = slim_elements_df.pivot_table(index='position',values='value',aggfunc=np.mean).reset_index()\n",
    "\n",
    "position_pivot.sort_values('value',ascending=False)"
   ]
  },
  {
   "cell_type": "code",
   "execution_count": null,
   "metadata": {},
   "outputs": [],
   "source": [
    "team_pivot = slim_elements_df.pivot_table(index='team',values='value',aggfunc=np.mean).reset_index()\n",
    "\n",
    "team_pivot.sort_values('value',ascending=False)"
   ]
  },
  {
   "cell_type": "code",
   "execution_count": null,
   "metadata": {},
   "outputs": [],
   "source": [
    "# Goalkeepers\n",
    "goal_df = slim_elements_df.loc[slim_elements_df.position == 'Goalkeeper']\n",
    "\n",
    "goal_df.sort_values('value',ascending=False).head(5)"
   ]
  },
  {
   "cell_type": "code",
   "execution_count": null,
   "metadata": {},
   "outputs": [],
   "source": [
    "# Defenders\n",
    "def_df = slim_elements_df.loc[slim_elements_df.position == 'Defender']\n",
    "\n",
    "def_df.sort_values('value',ascending=False).head(10)"
   ]
  },
  {
   "cell_type": "code",
   "execution_count": null,
   "metadata": {},
   "outputs": [],
   "source": [
    "# Midfielders\n",
    "mid_df = slim_elements_df.loc[slim_elements_df.position == 'Midfielder']\n",
    "\n",
    "mid_df.sort_values('value',ascending=False).head(10)"
   ]
  },
  {
   "cell_type": "code",
   "execution_count": null,
   "metadata": {},
   "outputs": [],
   "source": [
    "# Forwards\n",
    "fwd_df = slim_elements_df.loc[slim_elements_df.position == 'Forward']\n",
    "\n",
    "fwd_df.sort_values('value',ascending=False).head(10)"
   ]
  },
  {
   "cell_type": "code",
   "execution_count": null,
   "metadata": {},
   "outputs": [],
   "source": []
  }
 ],
 "metadata": {
  "interpreter": {
   "hash": "31f2aee4e71d21fbe5cf8b01ff0e069b9275f58929596ceb00d14d90e3e16cd6"
  },
  "kernelspec": {
   "display_name": "Python 3.8.9 64-bit",
   "language": "python",
   "name": "python3"
  },
  "language_info": {
   "codemirror_mode": {
    "name": "ipython",
    "version": 3
   },
   "file_extension": ".py",
   "mimetype": "text/x-python",
   "name": "python",
   "nbconvert_exporter": "python",
   "pygments_lexer": "ipython3",
   "version": "3.8.9"
  },
  "orig_nbformat": 4
 },
 "nbformat": 4,
 "nbformat_minor": 2
}
