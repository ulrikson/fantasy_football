{
 "cells": [
  {
   "cell_type": "code",
   "execution_count": 1,
   "metadata": {},
   "outputs": [
    {
     "name": "stdout",
     "output_type": "stream",
     "text": [
      "r2: 0.6416320120804944\n",
      "Adjusted r2: 0.6421404732171225\n",
      "r2: 0.818493214526538\n",
      "Adjusted r2: 0.8095842471211653\n",
      "r2: 0.8761474697482454\n",
      "Adjusted r2: 0.8730815773337931\n",
      "r2: 0.8681540567287982\n",
      "Adjusted r2: 0.8678268686967109\n"
     ]
    }
   ],
   "source": [
    "from ML import ML\n",
    "\n",
    "from Fantasy import Fantasy\n",
    "\n",
    "league = \"fpl\"\n",
    "\n",
    "unwanted_teams = []\n",
    "\n",
    "higher_than = {\n",
    "    \"value_season\": 0,\n",
    "    \"value_season_adj\": 0,\n",
    "    \"form\": 0,\n",
    "    \"minutes\": 0,\n",
    "    \"points_per_game\": 0,\n",
    "}\n",
    "\n",
    "max_cost = 200\n",
    "\n",
    "fantasy = Fantasy(league, unwanted_teams, higher_than, max_cost)\n",
    "\n",
    "df = fantasy.get_player_df()\n",
    "\n",
    "\n",
    "ML(df, \"total_points\", [\"minutes\"]).predict_linear_regression()\n",
    "ML(df, \"total_points\", [\"minutes\", \"ict_index\"]).predict_linear_regression()\n",
    "ML(df, \"total_points\", [\"minutes\", \"ict_index\", \"value_season_adj\"]).predict_linear_regression()\n",
    "ML(df, \"total_points\", [\"minutes\", \"ict_index\", \"value_season_adj\"]).predict_linear_regression()\n"
   ]
  },
  {
   "cell_type": "code",
   "execution_count": null,
   "metadata": {},
   "outputs": [],
   "source": []
  }
 ],
 "metadata": {
  "interpreter": {
   "hash": "31f2aee4e71d21fbe5cf8b01ff0e069b9275f58929596ceb00d14d90e3e16cd6"
  },
  "kernelspec": {
   "display_name": "Python 3.8.9 64-bit",
   "language": "python",
   "name": "python3"
  },
  "language_info": {
   "codemirror_mode": {
    "name": "ipython",
    "version": 3
   },
   "file_extension": ".py",
   "mimetype": "text/x-python",
   "name": "python",
   "nbconvert_exporter": "python",
   "pygments_lexer": "ipython3",
   "version": "3.8.9"
  },
  "orig_nbformat": 4
 },
 "nbformat": 4,
 "nbformat_minor": 2
}
